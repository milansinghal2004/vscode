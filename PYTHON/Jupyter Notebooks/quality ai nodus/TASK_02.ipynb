{
 "cells": [
  {
   "cell_type": "code",
   "execution_count": 5,
   "metadata": {},
   "outputs": [
    {
     "ename": "ImportError",
     "evalue": "cannot import name 'AutoModelForImageTextToText' from 'transformers' (c:\\ProgramData\\anaconda3\\Lib\\site-packages\\transformers\\__init__.py)",
     "output_type": "error",
     "traceback": [
      "\u001b[1;31m---------------------------------------------------------------------------\u001b[0m",
      "\u001b[1;31mImportError\u001b[0m                               Traceback (most recent call last)",
      "Cell \u001b[1;32mIn[5], line 1\u001b[0m\n\u001b[1;32m----> 1\u001b[0m \u001b[38;5;28;01mfrom\u001b[39;00m \u001b[38;5;21;01mtransformers\u001b[39;00m \u001b[38;5;28;01mimport\u001b[39;00m AutoProcessor, AutoModelForImageTextToText, TrainingArguments, Trainer\n\u001b[0;32m      2\u001b[0m \u001b[38;5;28;01mfrom\u001b[39;00m \u001b[38;5;21;01mdatasets\u001b[39;00m \u001b[38;5;28;01mimport\u001b[39;00m load_dataset\n\u001b[0;32m      3\u001b[0m \u001b[38;5;28;01mimport\u001b[39;00m \u001b[38;5;21;01mtorch\u001b[39;00m\n",
      "\u001b[1;31mImportError\u001b[0m: cannot import name 'AutoModelForImageTextToText' from 'transformers' (c:\\ProgramData\\anaconda3\\Lib\\site-packages\\transformers\\__init__.py)"
     ]
    }
   ],
   "source": [
    "from transformers import AutoProcessor, AutoModelForImageTextToText, TrainingArguments, Trainer\n",
    "from datasets import load_dataset\n",
    "import torch\n",
    "\n",
    "# Step 1: Load the pre-trained PaliGemma model and processor from Hugging Face\n",
    "processor = AutoProcessor.from_pretrained(\"brucewayne0459/paligemma_derm\")\n",
    "model = AutoModelForImageTextToText.from_pretrained(\"brucewayne0459/paligemma_derm\")\n",
    "\n",
    "# Step 2: Prepare the dataset\n",
    "# Load dataset from directory where images are organized in subdirectories for each class\n",
    "dataset = load_dataset('imagefolder', data_dir='Jupyter Notebooks/quality ai nodus/archive (1)')\n",
    "\n",
    "# Function to preprocess the dataset\n",
    "def preprocess_function(examples):\n",
    "    # Apply the processor to the images and their corresponding text (labels)\n",
    "    inputs = processor(images=examples['image'], text=examples['label'], return_tensors=\"pt\", padding=True)\n",
    "    return inputs\n",
    "\n",
    "# Apply the preprocessing function to the dataset\n",
    "encoded_dataset = dataset.map(preprocess_function, batched=True)\n",
    "\n",
    "# Step 3: Define training arguments\n",
    "training_args = TrainingArguments(\n",
    "    output_dir=\"./results\",\n",
    "    evaluation_strategy=\"epoch\",\n",
    "    learning_rate=1e-4,\n",
    "    per_device_train_batch_size=8,\n",
    "    per_device_eval_batch_size=8,\n",
    "    num_train_epochs=10,\n",
    "    weight_decay=0.01,\n",
    "    save_total_limit=2,\n",
    ")\n",
    "\n",
    "# Step 4: Define a Trainer object\n",
    "trainer = Trainer(\n",
    "    model=model,\n",
    "    args=training_args,\n",
    "    train_dataset=encoded_dataset['train'],\n",
    "    eval_dataset=encoded_dataset['validation'],\n",
    "    tokenizer=processor,\n",
    ")\n",
    "\n",
    "# Step 5: Train the model\n",
    "trainer.train()\n",
    "\n",
    "# Step 6: Evaluate the model\n",
    "eval_results = trainer.evaluate()\n",
    "print(f\"Evaluation results: {eval_results}\")\n",
    "\n",
    "# Step 7: Save the fine-tuned model\n",
    "model.save_pretrained('fine_tuned_paligemma_model')\n",
    "processor.save_pretrained('fine_tuned_paligemma_processor')\n"
   ]
  }
 ],
 "metadata": {
  "kernelspec": {
   "display_name": "base",
   "language": "python",
   "name": "python3"
  },
  "language_info": {
   "codemirror_mode": {
    "name": "ipython",
    "version": 3
   },
   "file_extension": ".py",
   "mimetype": "text/x-python",
   "name": "python",
   "nbconvert_exporter": "python",
   "pygments_lexer": "ipython3",
   "version": "3.11.5"
  }
 },
 "nbformat": 4,
 "nbformat_minor": 2
}
